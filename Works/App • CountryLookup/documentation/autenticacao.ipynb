{
 "cells": [
  {
   "cell_type": "markdown",
   "id": "f734fef6",
   "metadata": {},
   "source": [
    "[![instituto_federal_do_maranhao](https://img.shields.io/badge/Instituto_Federal_do_Maranhao-@IFMA-blue.svg)](https://www.linkedin.com/in/yullano90)\n",
    "\n",
    "[![programador_do_sistema](https://img.shields.io/badge/Programador_do_Sistema-@yullano90-blue.svg)](https://www.linkedin.com/in/yullano90)\n",
    "\n",
    "- Autor:  **iulano.santos@acad.ifma.edu.br**\n",
    "- Aplicativo: CountryLookupApp Versão 1.0.0\n",
    "- Stack Javascript: Node.js, Express.js, React.js;\n",
    "- SGBD: MySQL Workbench via HeidiSQL Admin;\n",
    "- Início da documentação: Abril de 2022\n",
    "-----------------------------------------------------------------------------------------------------------\n",
    "*O desafio é desenvolver um WebApp, baseado nos conhecimentos em Programação adquiridos no estágio em SI.\n",
    "Os bancos de dados usados no decorrer do estágio são corporativos, sendo assim a app usará o schema publico \n",
    "\"World\" do SGBD MySQL (vide abaixo), API com Nodejs e Interface com Reactjs.*\n",
    "\n",
    "\n",
    "# • Autenticação do App com JWT:\n",
    "-----------------------------------------------------------------------------------------------------------\n",
    "\n",
    "### Texto:\n",
    "\n"
   ]
  }
 ],
 "metadata": {
  "kernelspec": {
   "display_name": "Python 3 (ipykernel)",
   "language": "python",
   "name": "python3"
  },
  "language_info": {
   "codemirror_mode": {
    "name": "ipython",
    "version": 3
   },
   "file_extension": ".py",
   "mimetype": "text/x-python",
   "name": "python",
   "nbconvert_exporter": "python",
   "pygments_lexer": "ipython3",
   "version": "3.9.7"
  }
 },
 "nbformat": 4,
 "nbformat_minor": 5
}
